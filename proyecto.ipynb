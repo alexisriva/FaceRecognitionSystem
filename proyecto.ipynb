{
 "cells": [
  {
   "cell_type": "code",
   "execution_count": 1,
   "metadata": {},
   "outputs": [],
   "source": [
    "import cv2\n",
    "import numpy as np"
   ]
  },
  {
   "cell_type": "code",
   "execution_count": 2,
   "metadata": {},
   "outputs": [],
   "source": [
    "data_path = 'data/'"
   ]
  },
  {
   "cell_type": "code",
   "execution_count": 4,
   "metadata": {},
   "outputs": [
    {
     "name": "stdout",
     "output_type": "stream",
     "text": [
      "{'78451': 'Andrade Bravo', '79578': 'Alarc\\xc3\\xb3n Allan', '4177': 'Crow Juan', '4735': 'Kuffo Rivero', '80754': 'Rivadeneira Alexis', '78423': 'Parrales Jonathan', '2808': 'Julio Alvia', '113': 'C\\xc3\\xb3rdova Irene', '4370': 'Ferrin Alcivar', '2010': 'Robert Loor', '75091': 'Lama Aguirre'}\n"
     ]
    }
   ],
   "source": [
    "import os\n",
    "\n",
    "photo_dic = {}\n",
    "\n",
    "for dirname, dirnames, filenames in os.walk(data_path):\n",
    "    # print path to all subdirectories first.\n",
    "    #for subdirname in dirnames:\n",
    "        #print(os.path.join(dirname, subdirname))\n",
    "        \n",
    "    # print path to all filenames.\n",
    "    for filename in filenames:\n",
    "        photo = os.path.join(dirname, filename)\n",
    "        #print(photo)\n",
    "        photo_data = photo.split(\"/\")[2].split(\".\")[0].split(\"_\")\n",
    "        photo_id = photo_data[1]\n",
    "        photo_name = \"{} {}\".format(photo_data[3], photo_data[4])\n",
    "        if photo_id not in photo_dic:\n",
    "            photo_dic[photo_id] = photo_name\n",
    "\n",
    "print(photo_dic)"
   ]
  },
  {
   "cell_type": "code",
   "execution_count": 6,
   "metadata": {},
   "outputs": [],
   "source": [
    "recognizer = cv2.face.LBPHFaceRecognizer_create()\n",
    "detector= cv2.CascadeClassifier(\"haarcascade_frontalface_default.xml\")"
   ]
  },
  {
   "cell_type": "code",
   "execution_count": 7,
   "metadata": {},
   "outputs": [],
   "source": [
    "test_data = []"
   ]
  },
  {
   "cell_type": "code",
   "execution_count": 8,
   "metadata": {},
   "outputs": [],
   "source": [
    "def getImagesAndLabels(data_path):\n",
    "    #create empth face list\n",
    "    faceSamples=[]\n",
    "    #create empty ID list\n",
    "    Ids=[]\n",
    "    #get the path of all the files in the folder\n",
    "    #imagePaths=[]\n",
    "    for dirname, dirnames, filenames in os.walk(data_path):\n",
    "        for filename in filenames:\n",
    "            photo = os.path.join(dirname, filename)\n",
    "            #imagePaths.append(photo)\n",
    "            image = cv2.imread(photo, cv2.IMREAD_GRAYSCALE)\n",
    "            Id=int(photo.split(\"/\")[2].split(\".\")[0].split(\"_\")[1])\n",
    "            grupal = photo.split(\"/\")[2].split(\".\")[0].split(\"_\")[-1]\n",
    "            if grupal == \"grupal\":\n",
    "                test_data.append((Id,photo))\n",
    "            else:\n",
    "                faces=detector.detectMultiScale(image)\n",
    "                for (x,y,w,h) in faces:\n",
    "                    faceSamples.append(image[y:y+h,x:x+w])\n",
    "                    Ids.append(Id)\n",
    "                \n",
    "    return faceSamples,Ids"
   ]
  },
  {
   "cell_type": "code",
   "execution_count": 9,
   "metadata": {},
   "outputs": [],
   "source": [
    "faces,Ids = getImagesAndLabels(data_path)\n",
    "recognizer.train(faces, np.array(Ids))\n",
    "#recognizer.save('trainner/trainner.yml')"
   ]
  },
  {
   "cell_type": "code",
   "execution_count": 11,
   "metadata": {},
   "outputs": [
    {
     "ename": "error",
     "evalue": "OpenCV(4.0.0) /io/opencv/modules/objdetect/src/cascadedetect.cpp:1658: error: (-215:Assertion failed) !empty() in function 'detectMultiScale'\n",
     "output_type": "error",
     "traceback": [
      "\u001b[0;31m---------------------------------------------------------------------------\u001b[0m",
      "\u001b[0;31merror\u001b[0m                                     Traceback (most recent call last)",
      "\u001b[0;32m<ipython-input-11-0ca6d2ef1f88>\u001b[0m in \u001b[0;36m<module>\u001b[0;34m()\u001b[0m\n\u001b[1;32m     13\u001b[0m \u001b[0mimage\u001b[0m \u001b[0;34m=\u001b[0m \u001b[0mcv2\u001b[0m\u001b[0;34m.\u001b[0m\u001b[0mimread\u001b[0m\u001b[0;34m(\u001b[0m\u001b[0;34m'data/h_andrade/alarconyepezallansamuel_79578_1302986_Alarcón_Allan_frontal.jpg'\u001b[0m\u001b[0;34m)\u001b[0m\u001b[0;34m\u001b[0m\u001b[0m\n\u001b[1;32m     14\u001b[0m \u001b[0mgray\u001b[0m \u001b[0;34m=\u001b[0m \u001b[0mcv2\u001b[0m\u001b[0;34m.\u001b[0m\u001b[0mcvtColor\u001b[0m\u001b[0;34m(\u001b[0m\u001b[0mimage\u001b[0m\u001b[0;34m,\u001b[0m \u001b[0mcv2\u001b[0m\u001b[0;34m.\u001b[0m\u001b[0mCOLOR_BGR2GRAY\u001b[0m\u001b[0;34m)\u001b[0m\u001b[0;34m\u001b[0m\u001b[0m\n\u001b[0;32m---> 15\u001b[0;31m \u001b[0mfaces\u001b[0m \u001b[0;34m=\u001b[0m \u001b[0mface_classifier\u001b[0m\u001b[0;34m.\u001b[0m\u001b[0mdetectMultiScale\u001b[0m\u001b[0;34m(\u001b[0m\u001b[0mgray\u001b[0m\u001b[0;34m,\u001b[0m \u001b[0;36m1.3\u001b[0m\u001b[0;34m,\u001b[0m \u001b[0;36m5\u001b[0m\u001b[0;34m)\u001b[0m\u001b[0;34m\u001b[0m\u001b[0m\n\u001b[0m\u001b[1;32m     16\u001b[0m \u001b[0;34m\u001b[0m\u001b[0m\n\u001b[1;32m     17\u001b[0m \u001b[0;32mif\u001b[0m \u001b[0;32mnot\u001b[0m \u001b[0mfaces\u001b[0m\u001b[0;34m:\u001b[0m\u001b[0;34m\u001b[0m\u001b[0m\n",
      "\u001b[0;31merror\u001b[0m: OpenCV(4.0.0) /io/opencv/modules/objdetect/src/cascadedetect.cpp:1658: error: (-215:Assertion failed) !empty() in function 'detectMultiScale'\n"
     ]
    }
   ],
   "source": [
    "# We point OpenCV's CascadeClassifier function to where our \n",
    "# classifier (XML file format) is stored\n",
    "face_classifier = cv2.CascadeClassifier('Haarcascades/haarcascade_frontalface_default.xml')\n",
    "\n",
    "# Load our image then convert it to grayscale\n",
    "\"\"\"for Id,photo in test_data:\n",
    "    image = cv2.imread(photo)\n",
    "    gray = cv2.cvtColor(image, cv2.COLOR_BGR2GRAY)\n",
    "    results = recognizer.predict(gray)\n",
    "    \n",
    "    print(Id == results[0])\"\"\"\n",
    "\n",
    "image = cv2.imread('data/h_andrade/alarconyepezallansamuel_79578_1302986_Alarcón_Allan_frontal.jpg')\n",
    "gray = cv2.cvtColor(image, cv2.COLOR_BGR2GRAY)\n",
    "faces = face_classifier.detectMultiScale(gray, 1.3, 5)\n",
    "\n",
    "if not faces:\n",
    "    return image, []\n",
    "\n",
    "for (x,y,w,h) in faces:\n",
    "    cv2.rectangle(image,(x,y),(x+w,y+h),(0,255,255),2)\n",
    "    roi = image[y:y+h, x:x+w]\n",
    "    roi = cv2.resize(roi, (200, 200))\n",
    "\n",
    "results = recognizer.predict(gray)    \n",
    "\n",
    "cv2.putText(image, photo_dic[str(results[0])], (100, 120), cv2.FONT_HERSHEY_COMPLEX, 1, (255,120,150), 2)\n",
    "cv2.imshow('Face Recognition', image )\n",
    "\n",
    "cv2.waitKey(0)\n",
    "cv2.destroyAllWindows()"
   ]
  }
 ],
 "metadata": {
  "kernelspec": {
   "display_name": "Python 2",
   "language": "python",
   "name": "python2"
  },
  "language_info": {
   "codemirror_mode": {
    "name": "ipython",
    "version": 2
   },
   "file_extension": ".py",
   "mimetype": "text/x-python",
   "name": "python",
   "nbconvert_exporter": "python",
   "pygments_lexer": "ipython2",
   "version": "2.7.15rc1"
  }
 },
 "nbformat": 4,
 "nbformat_minor": 2
}
