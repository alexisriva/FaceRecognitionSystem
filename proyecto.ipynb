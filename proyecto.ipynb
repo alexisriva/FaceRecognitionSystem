{
 "cells": [
  {
   "cell_type": "code",
   "execution_count": 1,
   "metadata": {},
   "outputs": [],
   "source": [
    "import cv2\n",
    "import numpy as np"
   ]
  },
  {
   "cell_type": "code",
   "execution_count": 2,
   "metadata": {},
   "outputs": [],
   "source": [
    "data_path = 'data/'\n",
    "#files = [f for f in listdir(data_path) if isfile(join(data_path, f))]"
   ]
  },
  {
   "cell_type": "code",
   "execution_count": 13,
   "metadata": {},
   "outputs": [
    {
     "name": "stdout",
     "output_type": "stream",
     "text": [
      "{'78451': 'Bravo Andrade', '79578': 'Allan Alarc\\xc3\\xb3n', '4177': 'Juan Crow', '4735': 'Rivero Kuffo', '80754': 'Alexis Rivadeneira', '78423': 'Jonathan Parrales', '2808': 'Alvia Julio', '113': 'Irene C\\xc3\\xb3rdova', '4370': 'Alcivar Ferrin', '2010': 'Loor Robert', '75091': 'Aguirre Lama'}\n"
     ]
    }
   ],
   "source": [
    "import os\n",
    "\n",
    "photo_dic = {}\n",
    "\n",
    "for dirname, dirnames, filenames in os.walk(data_path):\n",
    "    # print path to all subdirectories first.\n",
    "    #for subdirname in dirnames:\n",
    "        #print(os.path.join(dirname, subdirname))\n",
    "        \n",
    "    # print path to all filenames.\n",
    "    for filename in filenames:\n",
    "        photo = os.path.join(dirname, filename)\n",
    "        photo_data = photo.split(\"/\")[2].split(\".\")[0].split(\"_\")\n",
    "        photo_id = photo_data[1]\n",
    "        photo_name = \"{} {}\".format(photo_data[4], photo_data[3])\n",
    "        if photo_id not in photo_dic:\n",
    "            photo_dic[photo_id] = photo_name\n",
    "\n",
    "print(photo_dic)"
   ]
  },
  {
   "cell_type": "code",
   "execution_count": null,
   "metadata": {},
   "outputs": [],
   "source": []
  }
 ],
 "metadata": {
  "kernelspec": {
   "display_name": "Python 2",
   "language": "python",
   "name": "python2"
  },
  "language_info": {
   "codemirror_mode": {
    "name": "ipython",
    "version": 2
   },
   "file_extension": ".py",
   "mimetype": "text/x-python",
   "name": "python",
   "nbconvert_exporter": "python",
   "pygments_lexer": "ipython2",
   "version": "2.7.15rc1"
  }
 },
 "nbformat": 4,
 "nbformat_minor": 2
}
